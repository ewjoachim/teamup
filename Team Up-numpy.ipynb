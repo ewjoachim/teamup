{
 "cells": [
  {
   "cell_type": "code",
   "execution_count": 2,
   "metadata": {},
   "outputs": [],
   "source": [
    "import numpy as np\n",
    "\n",
    "# Colors\n",
    "WHITE = 0\n",
    "BLUE = 1\n",
    "RED = 2\n",
    "GREEN = 3  # Initial piece\n",
    "COLORS = np.array([WHITE, BLUE, RED])"
   ]
  },
  {
   "cell_type": "code",
   "execution_count": 3,
   "metadata": {},
   "outputs": [],
   "source": [
    "# Shapes\n",
    "LONG4 = np.array((1, 1, 4))\n",
    "RECTANGLE3 = np.array((2, 1, 3))\n",
    "RECTANGLE2 = np.array((3, 1, 2))\n",
    "SQUARE2 = np.array((2, 1, 2))\n",
    "SHORT2 = np.array((1, 1, 2))\n",
    "LONG1 = np.array((4, 1, 1))\n",
    "RECTANGLE1 = np.array((3, 2, 1))\n",
    "SQUARE1 = np.array((2, 2, 1))\n",
    "SHORT1 = np.array((2, 1, 1))\n",
    "SHAPES = np.array([LONG4, RECTANGLE3, RECTANGLE2, SQUARE2, SHORT2, LONG1,\n",
    "                   RECTANGLE1, SQUARE1, SHORT1])"
   ]
  },
  {
   "cell_type": "code",
   "execution_count": 4,
   "metadata": {},
   "outputs": [],
   "source": [
    "# Can we do that better ?\n",
    "PIECES=np.column_stack((np.repeat(SHAPES, len(COLORS), axis=0), np.tile(COLORS, len(SHAPES))))\n",
    "IDX, IDY, IDZ, IDCOL = 0, 1, 2, 3\n",
    "IDPX, IDPY, IDPZ = 4, 5, 6"
   ]
  },
  {
   "cell_type": "code",
   "execution_count": 5,
   "metadata": {},
   "outputs": [],
   "source": [
    "ABC = (RECTANGLE1, False)\n",
    "ACB = (RECTANGLE2, False)\n",
    "BAC = (RECTANGLE1, True)\n",
    "BCA = (RECTANGLE3, False)\n",
    "CAB = (RECTANGLE2, True)\n",
    "CBA = (RECTANGLE3, True)"
   ]
  },
  {
   "cell_type": "code",
   "execution_count": 6,
   "metadata": {},
   "outputs": [],
   "source": [
    "CARD_WHITE = PIECES[PIECES[:,IDCOL] == WHITE]\n",
    "CARD_BLUE = PIECES[PIECES[:,IDCOL] == BLUE]\n",
    "CARD_RED = PIECES[PIECES[:,IDCOL] == RED]\n",
    "\n",
    "CARD_LONG = PIECES[np.all(np.sort(PIECES[:,:3], axis=1)[:,:2] == np.array((1, 1)), axis=1)]\n",
    "CARD_SQUARE = PIECES[np.all(np.sort(PIECES[:,:3], axis=1)[:,1:] == np.array((2, 2)), axis=1)]\n",
    "CARD_RECTANGLE = PIECES[np.all(np.sort(PIECES[:,:3], axis=1) == np.array((1, 2, 3)), axis=1)]\n",
    "\n",
    "#CARD_RECTANGLE = frozenset(p for p in PIECES if sorted(p.shape.value) == [1, 2, 3])"
   ]
  },
  {
   "cell_type": "code",
   "execution_count": 281,
   "metadata": {},
   "outputs": [],
   "source": [
    "\n",
    "# Remember to remove the rectangle\n",
    "INITIAL_DECK = np.array([CARD_SQUARE, CARD_WHITE, CARD_LONG, CARD_RECTANGLE, CARD_BLUE,\n",
    "                         CARD_RED, CARD_WHITE, CARD_RECTANGLE, CARD_WHITE, CARD_BLUE,\n",
    "                         CARD_RED, CARD_SQUARE, CARD_LONG, CARD_RECTANGLE, CARD_BLUE,\n",
    "                         CARD_LONG, CARD_LONG, CARD_BLUE, CARD_SQUARE, CARD_RED, CARD_LONG,\n",
    "                         CARD_BLUE, CARD_RED, CARD_LONG, CARD_RECTANGLE, CARD_SQUARE,\n",
    "                         CARD_WHITE, CARD_BLUE, CARD_WHITE, CARD_WHITE, CARD_RED, CARD_RED,\n",
    "                         CARD_RECTANGLE, CARD_RECTANGLE, CARD_SQUARE, CARD_SQUARE])\n",
    "\n",
    "CARDS_NUM = len(INITIAL_DECK)"
   ]
  },
  {
   "cell_type": "code",
   "execution_count": 8,
   "metadata": {},
   "outputs": [],
   "source": [
    "BOARD = np.array((6, 4))"
   ]
  },
  {
   "cell_type": "code",
   "execution_count": 364,
   "metadata": {},
   "outputs": [],
   "source": [
    "import matplotlib.pyplot as plt\n",
    "import numpy as np\n",
    "\n",
    "# This import registers the 3D projection, but is otherwise unused.\n",
    "from mpl_toolkits.mplot3d import Axes3D  # noqa: F401 unused import\n",
    "\n",
    "\n",
    "def set_axes_equal(ax):\n",
    "    '''Make axes of 3D plot have equal scale so that spheres appear as spheres,\n",
    "    cubes as cubes, etc..  This is one possible solution to Matplotlib's\n",
    "    ax.set_aspect('equal') and ax.axis('equal') not working for 3D.\n",
    "\n",
    "    Input\n",
    "      ax: a matplotlib axis, e.g., as output from plt.gca().\n",
    "    '''\n",
    "\n",
    "    x_limits = ax.get_xlim3d()\n",
    "    y_limits = ax.get_ylim3d()\n",
    "    z_limits = ax.get_zlim3d()\n",
    "\n",
    "    x_range = abs(x_limits[1] - x_limits[0])\n",
    "    x_middle = np.mean(x_limits)\n",
    "    y_range = abs(y_limits[1] - y_limits[0])\n",
    "    y_middle = np.mean(y_limits)\n",
    "    z_range = abs(z_limits[1] - z_limits[0])\n",
    "    z_middle = np.mean(z_limits)\n",
    "\n",
    "    # The plot bounding box is a sphere in the sense of the infinity\n",
    "    # norm, hence I call half the max range the plot radius.\n",
    "    plot_radius = 0.5*max([x_range, y_range, z_range])\n",
    "\n",
    "    ax.set_xlim3d([x_middle - plot_radius, x_middle + plot_radius])\n",
    "    ax.set_ylim3d([y_middle - plot_radius, y_middle + plot_radius])\n",
    "    ax.set_zlim3d([z_middle - plot_radius, z_middle + plot_radius])\n",
    "    \n",
    "    \n",
    "def draw(pieces):\n",
    "    pieces = np.copy(pieces)\n",
    "    # shape for pieces is (n, 7), 7 being (l, w, h, c, x, y, z)\n",
    "    idl, idw, idh, idc, idx, idy, idz = range(7)\n",
    "    pieces[:,idz] += 1\n",
    "    max_height = np.max(pieces[:,idh] + pieces[:,idz]) + 1\n",
    "    \n",
    "    # prepare some coordinates\n",
    "    shape = np.concatenate((BOARD, np.array((max_height,))))\n",
    "    x, y, z = np.indices(shape)\n",
    "    colors = np.full(shape, \"\")\n",
    "    color_names = [\"white\", \"blue\", \"red\", \"green\"]\n",
    "    \n",
    "    base = (z == 0)\n",
    "    colors[base] = 'key'\n",
    "    \n",
    "    for piece in pieces:\n",
    "        voxels = ((piece[idx] <= x) & (x < piece[idx] + piece[idl]) &\n",
    "                  (piece[idy] <= y) & (y < piece[idy] + piece[idw]) &\n",
    "                  (piece[idz] <= z) & (z < piece[idz] + piece[idh]))\n",
    "\n",
    "        colors[voxels] = color_names[piece[idc]]\n",
    "\n",
    "    voxels = colors != \"\"\n",
    "\n",
    "    # and plot everything\n",
    "    fig = plt.figure()\n",
    "    ax = fig.gca(projection='3d')\n",
    "    ax.set_aspect('equal')\n",
    "    ax.voxels(voxels, facecolors=colors, edgecolor='#00000020')\n",
    "    set_axes_equal(ax)\n",
    "    plt.axis('off')\n",
    "    plt.show()\n",
    "\n"
   ]
  },
  {
   "cell_type": "code",
   "execution_count": 365,
   "metadata": {},
   "outputs": [],
   "source": [
    "import functools\n",
    "\n",
    "def concatenate_two(a, b):\n",
    "    return np.hstack((np.repeat(a, len(b), axis=0), np.tile(b, (len(a), 1))))\n",
    "\n",
    "def combine(*arrays):\n",
    "    return functools.reduce(concatenate_two, arrays)"
   ]
  },
  {
   "cell_type": "code",
   "execution_count": 455,
   "metadata": {},
   "outputs": [],
   "source": [
    "from typing import Sequence\n",
    "import numpy as np\n",
    "\n",
    "\n",
    "class Game:\n",
    "    def __init__(self, turn: int, deck, used, board_cubes, board_pieces, first):\n",
    "        assert turn < CARDS_NUM\n",
    "        self.turn = turn\n",
    "        self.deck = deck\n",
    "        self.used = used\n",
    "        self.board_cubes = board_cubes\n",
    "        self.board_pieces = board_pieces\n",
    "        self.first = first\n",
    "\n",
    "    @classmethod\n",
    "    def new(cls, first, cards_order=None):\n",
    "        first_shape, rotated = first\n",
    "        if rotated:\n",
    "            first_shape = first_shape[[1, 0, 2]]\n",
    "\n",
    "        sorted_cards = np.arange(CARDS_NUM)\n",
    "        if cards_order:\n",
    "            assert np.sort(cards_order) == sorted_cards\n",
    "        else:\n",
    "            cards_order = sorted_cards\n",
    "        deck = INITIAL_DECK[cards_order]\n",
    "\n",
    "        board_cubes = np.zeros(BOARD, dtype=int)\n",
    "        board_cubes[: first_shape[IDX], : first_shape[IDY]] = first_shape[IDZ]\n",
    "        board_pieces = np.array([[*first_shape, GREEN, 0, 0, 0]])\n",
    "        return cls(\n",
    "            turn=0,\n",
    "            deck=deck,\n",
    "            used=np.empty((0, 4)),\n",
    "            board_cubes=board_cubes,\n",
    "            board_pieces=board_pieces,\n",
    "            first=first,\n",
    "        )\n",
    "\n",
    "    def draw(self):\n",
    "        draw(pieces=self.board_pieces)\n",
    "\n",
    "    def possible_moves(self):\n",
    "        # All possible blocks from the card\n",
    "        authorized = self.deck[self.turn]\n",
    "\n",
    "        # Remove those already used\n",
    "        available = authorized[\n",
    "            np.all(np.any(authorized != self.used[:, None, :], axis=2), axis=0)\n",
    "        ]\n",
    "        if not available.shape[0]:\n",
    "            return available\n",
    "        \n",
    "        # Add all possible rotations\n",
    "        avail_and_rotated = np.unique(\n",
    "            np.concatenate((available, available[:, (1, 0, 2, 3)])), axis=0\n",
    "        )\n",
    "\n",
    "        # Combine with every possible coordinate\n",
    "        moves = combine(\n",
    "            avail_and_rotated,\n",
    "            np.arange(BOARD[0])[..., None],\n",
    "            np.arange(BOARD[1])[..., None],\n",
    "        )\n",
    "\n",
    "        # Remove out of bounds\n",
    "        moves = moves[\n",
    "            ~np.any(\n",
    "                [\n",
    "                    moves[:, IDX] + moves[:, IDPX] > BOARD[0],\n",
    "                    moves[:, IDY] + moves[:, IDPY] > BOARD[1],\n",
    "                ],\n",
    "                axis=0,\n",
    "            )\n",
    "        ]\n",
    "        if not moves.shape[0]:\n",
    "            return moves\n",
    "\n",
    "        # Remove z clash\n",
    "        x, y = np.indices(BOARD)\n",
    "        # This will be the list of coordinates for each move\n",
    "        coord = moves[:, (IDPX, IDPY)]\n",
    "        # This is board cubes, repeated for each move\n",
    "        repeated = np.repeat(self.board_cubes[None], len(moves), axis=0)\n",
    "        # This is the height of the point a each coordinate\n",
    "        heights = self.board_cubes[tuple(coord.T)]\n",
    "        # This is a mask the shape of the board, with True where the piece is, for each move\n",
    "        shapes = np.moveaxis(\n",
    "            np.all(\n",
    "                [\n",
    "                    moves[:, IDPX] <= x[..., None],\n",
    "                    x[..., None] < moves[:, IDPX] + moves[:, IDX],\n",
    "                    moves[:, IDPY] <= y[..., None],\n",
    "                    y[..., None] < moves[:, IDPY] + moves[:, IDY],\n",
    "                ],\n",
    "                axis=0,\n",
    "            ),\n",
    "            -1,\n",
    "            0,\n",
    "        )\n",
    "\n",
    "        # This is a mask the shape of the board with all the places where height is equal to\n",
    "        # the height at the coordinate\n",
    "        equal = np.equal(repeated, heights[..., None, None])\n",
    "\n",
    "        # Couldn't find how to remove the for loop here :(\n",
    "        # Here we keep only the pieces for which equal[shape] is all True\n",
    "        moves_to_keep = np.array([np.all(e[s]) for e, s in zip(equal, shapes)])\n",
    "        moves = moves[moves_to_keep]\n",
    "        heights = heights[moves_to_keep]\n",
    "        shapes = shapes[moves_to_keep]\n",
    "        if not moves.shape[0]:\n",
    "            return moves\n",
    "\n",
    "        # Get 3D coordinates (same format as board_pieces)\n",
    "        moves = np.concatenate([moves, heights[..., None]], axis=1)\n",
    "        \n",
    "        # pairwise differences\n",
    "        diff = moves[None] - self.board_pieces[:, None]\n",
    "\n",
    "        same_shape = np.all(diff[..., 0:3] == 0, axis=2)\n",
    "\n",
    "        # 2 pieces are close if they have non zero diff distance on 1 coordinate, and that this\n",
    "        # non zero (absolute) value is the size of the piece\n",
    "        relative_dist = np.abs(diff[..., IDPX:]) / moves[..., IDX : IDZ + 1]\n",
    "        close = np.all(np.sort(relative_dist, axis=2) == np.array([0, 0, 1]), axis=2)\n",
    "\n",
    "        both = np.any(same_shape & close, axis=0)\n",
    "\n",
    "        moves = moves[~both]\n",
    "        shapes = shapes[~both]\n",
    "\n",
    "        # Keep only moves that are touching another piece\n",
    "        possible_spots = self.board_cubes.copy()\n",
    "        mask = np.copy(possible_spots)\n",
    "        possible_spots[:-2, :] += mask[1:-1, :]\n",
    "        possible_spots[2:, :] += mask[1:-1:, :]\n",
    "        possible_spots[:, :-2] += mask[:, 1:-1]\n",
    "        possible_spots[:, 2:] += mask[:, 1:-1]\n",
    "        possible_spots = possible_spots > 0\n",
    "        block_is_next_to_piece = shapes & possible_spots\n",
    "        is_next_to_piece = np.any(block_is_next_to_piece, axis=(1, 2))\n",
    "\n",
    "        moves = moves[is_next_to_piece]\n",
    "        \n",
    "        return moves\n",
    "\n",
    "    def play(self, move):\n",
    "        \n",
    "        \n",
    "        board_pieces = np.append(self.board_pieces, move[None], axis=0)\n",
    "        board_cubes = np.copy(self.board_cubes)\n",
    "        board_cubes[\n",
    "            move[IDPX] : move[IDPX] + move[IDX], move[IDPY] : move[IDPY] + move[IDY]\n",
    "        ] += move[IDZ]\n",
    "\n",
    "        rot = move[IDX] < move[IDY]\n",
    "        if rot:\n",
    "            move[[IDX, IDY]] = move[[IDY, IDX]]\n",
    "        \n",
    "        used = np.append(self.used, move[IDX : IDCOL + 1][None], axis=0)\n",
    "        \n",
    "        return self.__class__(\n",
    "            turn=self.turn + 1,\n",
    "            deck=self.deck,\n",
    "            used=used,\n",
    "            board_cubes=board_cubes,\n",
    "            board_pieces=board_pieces,\n",
    "            first=self.first,\n",
    "        )\n",
    "    @property\n",
    "    def score(self):\n",
    "        return np.min(self.board_cubes)\n",
    "    "
   ]
  },
  {
   "cell_type": "code",
   "execution_count": 456,
   "metadata": {
    "scrolled": false
   },
   "outputs": [],
   "source": [
    "def random_game(game: Game):\n",
    "    game = \n",
    "    while True:\n",
    "        moves = game.possible_moves()\n",
    "        if not len(moves):\n",
    "            # game.draw()\n",
    "            return game.score\n",
    "        else:\n",
    "            game = game.play(moves[np.random.randint(moves.shape[0])])"
   ]
  },
  {
   "cell_type": "code",
   "execution_count": 448,
   "metadata": {},
   "outputs": [
    {
     "name": "stdout",
     "output_type": "stream",
     "text": [
      "18 ms ± 132 µs per loop (mean ± std. dev. of 7 runs, 100 loops each)\n"
     ]
    }
   ],
   "source": [
    "%timeit random_game()"
   ]
  },
  {
   "cell_type": "code",
   "execution_count": 425,
   "metadata": {},
   "outputs": [],
   "source": [
    "def count_nodes(level:int, game:Game, total_moves:list):\n",
    "    if level < 0:\n",
    "        return\n",
    "    possible_moves = game.possible_moves()\n",
    "    total_moves[level] += len(possible_moves)\n",
    "    for move in possible_moves:\n",
    "        count_nodes(level-1, game.play(move), total_moves)"
   ]
  },
  {
   "cell_type": "code",
   "execution_count": 428,
   "metadata": {},
   "outputs": [],
   "source": [
    "l = [0] * 5\n",
    "count_nodes(2, Game.new(ABC), l)"
   ]
  },
  {
   "cell_type": "code",
   "execution_count": 457,
   "metadata": {},
   "outputs": [],
   "source": [
    "scores = np.array([random_game() for _ in range(1000)])"
   ]
  },
  {
   "cell_type": "code",
   "execution_count": 458,
   "metadata": {},
   "outputs": [
    {
     "data": {
      "text/plain": [
       "0.022"
      ]
     },
     "execution_count": 458,
     "metadata": {},
     "output_type": "execute_result"
    }
   ],
   "source": [
    "np.average(scores)"
   ]
  },
  {
   "cell_type": "code",
   "execution_count": 459,
   "metadata": {},
   "outputs": [
    {
     "data": {
      "text/plain": [
       "1"
      ]
     },
     "execution_count": 459,
     "metadata": {},
     "output_type": "execute_result"
    }
   ],
   "source": [
    "np.max(scores)"
   ]
  },
  {
   "cell_type": "code",
   "execution_count": null,
   "metadata": {},
   "outputs": [],
   "source": []
  }
 ],
 "metadata": {
  "kernelspec": {
   "display_name": "Python 3",
   "language": "python",
   "name": "python3"
  },
  "language_info": {
   "codemirror_mode": {
    "name": "ipython",
    "version": 3
   },
   "file_extension": ".py",
   "mimetype": "text/x-python",
   "name": "python",
   "nbconvert_exporter": "python",
   "pygments_lexer": "ipython3",
   "version": "3.6.7"
  }
 },
 "nbformat": 4,
 "nbformat_minor": 2
}
