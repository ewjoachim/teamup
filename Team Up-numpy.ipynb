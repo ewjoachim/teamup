{
 "cells": [
  {
   "cell_type": "code",
   "execution_count": 61,
   "metadata": {},
   "outputs": [],
   "source": [
    "import numpy as np\n",
    "\n",
    "# Colors\n",
    "WHITE = 0\n",
    "BLUE = 1\n",
    "RED = 2\n",
    "GREEN = 3  # Initial piece\n",
    "COLORS = np.array([WHITE, BLUE, RED])"
   ]
  },
  {
   "cell_type": "code",
   "execution_count": 771,
   "metadata": {},
   "outputs": [],
   "source": [
    "# Shapes\n",
    "LONG4 = np.array((1, 1, 4))\n",
    "RECTANGLE3 = np.array((2, 1, 3))\n",
    "RECTANGLE2 = np.array((3, 1, 2))\n",
    "SQUARE2 = np.array((2, 1, 2))\n",
    "SHORT2 = np.array((1, 1, 2))\n",
    "LONG1 = np.array((4, 1, 1))\n",
    "RECTANGLE1 = np.array((3, 2, 1))\n",
    "SQUARE1 = np.array((2, 2, 1))\n",
    "SHORT1 = np.array((2, 1, 1))\n",
    "SHAPES = np.array([LONG4, RECTANGLE3, RECTANGLE2, SQUARE2, SHORT2, LONG1,\n",
    "                   RECTANGLE1, SQUARE1, SHORT1])"
   ]
  },
  {
   "cell_type": "code",
   "execution_count": 772,
   "metadata": {},
   "outputs": [],
   "source": [
    "# Can we do that better ?\n",
    "PIECES=np.column_stack((np.repeat(SHAPES, len(COLORS), axis=0), np.tile(COLORS, len(SHAPES))))\n",
    "IDX, IDY, IDZ, IDCOL = 0, 1, 2, 3\n",
    "IDPX, IDPY, IDPZ = 4, 5, 6"
   ]
  },
  {
   "cell_type": "code",
   "execution_count": 773,
   "metadata": {},
   "outputs": [],
   "source": [
    "ABC = (RECTANGLE1, False)\n",
    "ACB = (RECTANGLE2, False)\n",
    "BAC = (RECTANGLE1, True)\n",
    "BCA = (RECTANGLE3, False)\n",
    "CAB = (RECTANGLE2, True)\n",
    "CBA = (RECTANGLE3, True)"
   ]
  },
  {
   "cell_type": "code",
   "execution_count": 774,
   "metadata": {},
   "outputs": [],
   "source": [
    "CARD_WHITE = PIECES[PIECES[:,IDCOL] == WHITE]\n",
    "CARD_BLUE = PIECES[PIECES[:,IDCOL] == BLUE]\n",
    "CARD_RED = PIECES[PIECES[:,IDCOL] == RED]\n",
    "\n",
    "CARD_LONG = PIECES[np.all(np.sort(PIECES[:,:3], axis=1)[:,:2] == np.array((1, 1)), axis=1)]\n",
    "CARD_SQUARE = PIECES[np.all(np.sort(PIECES[:,:3], axis=1)[:,1:] == np.array((2, 2)), axis=1)]\n",
    "CARD_RECTANGLE = PIECES[np.all(np.sort(PIECES[:,:3], axis=1) == np.array((1, 2, 3)), axis=1)]\n",
    "\n",
    "#CARD_RECTANGLE = frozenset(p for p in PIECES if sorted(p.shape.value) == [1, 2, 3])"
   ]
  },
  {
   "cell_type": "code",
   "execution_count": 804,
   "metadata": {},
   "outputs": [],
   "source": [
    "\n",
    "# Remember to remove the rectangle\n",
    "INITIAL_DECK = np.array([CARD_RECTANGLE,\n",
    "                         CARD_SQUARE, CARD_WHITE, CARD_LONG, CARD_RECTANGLE, CARD_BLUE,\n",
    "                         CARD_RED, CARD_WHITE, CARD_RECTANGLE, CARD_WHITE, CARD_BLUE,\n",
    "                         CARD_RED, CARD_SQUARE, CARD_LONG, CARD_RECTANGLE, CARD_BLUE,\n",
    "                         CARD_LONG, CARD_LONG, CARD_BLUE, CARD_SQUARE, CARD_RED, CARD_LONG,\n",
    "                         CARD_BLUE, CARD_RED, CARD_LONG, CARD_RECTANGLE, CARD_SQUARE,\n",
    "                         CARD_WHITE, CARD_BLUE, CARD_WHITE, CARD_WHITE, CARD_RED, CARD_RED,\n",
    "                         CARD_RECTANGLE, CARD_RECTANGLE, CARD_SQUARE, CARD_SQUARE])\n",
    "\n",
    "CARDS_NUM = len(INITIAL_DECK)"
   ]
  },
  {
   "cell_type": "code",
   "execution_count": 805,
   "metadata": {},
   "outputs": [],
   "source": [
    "BOARD = np.array((6, 4))"
   ]
  },
  {
   "cell_type": "code",
   "execution_count": 806,
   "metadata": {},
   "outputs": [],
   "source": [
    "def rotate(shape):\n",
    "    return shape[[1, 0, 2]]\n",
    "    "
   ]
  },
  {
   "cell_type": "code",
   "execution_count": 807,
   "metadata": {},
   "outputs": [],
   "source": [
    "import matplotlib.pyplot as plt\n",
    "import numpy as np\n",
    "\n",
    "# This import registers the 3D projection, but is otherwise unused.\n",
    "from mpl_toolkits.mplot3d import Axes3D  # noqa: F401 unused import\n",
    "\n",
    "\n",
    "def set_axes_equal(ax):\n",
    "    '''Make axes of 3D plot have equal scale so that spheres appear as spheres,\n",
    "    cubes as cubes, etc..  This is one possible solution to Matplotlib's\n",
    "    ax.set_aspect('equal') and ax.axis('equal') not working for 3D.\n",
    "\n",
    "    Input\n",
    "      ax: a matplotlib axis, e.g., as output from plt.gca().\n",
    "    '''\n",
    "\n",
    "    x_limits = ax.get_xlim3d()\n",
    "    y_limits = ax.get_ylim3d()\n",
    "    z_limits = ax.get_zlim3d()\n",
    "\n",
    "    x_range = abs(x_limits[1] - x_limits[0])\n",
    "    x_middle = np.mean(x_limits)\n",
    "    y_range = abs(y_limits[1] - y_limits[0])\n",
    "    y_middle = np.mean(y_limits)\n",
    "    z_range = abs(z_limits[1] - z_limits[0])\n",
    "    z_middle = np.mean(z_limits)\n",
    "\n",
    "    # The plot bounding box is a sphere in the sense of the infinity\n",
    "    # norm, hence I call half the max range the plot radius.\n",
    "    plot_radius = 0.5*max([x_range, y_range, z_range])\n",
    "\n",
    "    ax.set_xlim3d([x_middle - plot_radius, x_middle + plot_radius])\n",
    "    ax.set_ylim3d([y_middle - plot_radius, y_middle + plot_radius])\n",
    "    ax.set_zlim3d([z_middle - plot_radius, z_middle + plot_radius])\n",
    "    \n",
    "    \n",
    "def draw(pieces):\n",
    "    # shape for pieces is (n, 7), 7 being (l, w, h, c, x, y, z)\n",
    "    idl, idw, idh, idc, idx, idy, idz = range(7)\n",
    "    max_height = np.max(a[:,idh] + a[:,idz]) + 1\n",
    "    \n",
    "    # prepare some coordinates\n",
    "    shape = np.concatenate((BOARD, np.array((max_height,))))\n",
    "    x, y, z = np.indices(shape)\n",
    "    colors = np.full(shape, \"\")\n",
    "    color_names = [\"white\", \"blue\", \"red\", \"green\"]\n",
    "    \n",
    "    base = (z == 0)\n",
    "    colors[base] = 'grey'\n",
    "    pieces[:,idz] += 1\n",
    "    \n",
    "    for piece in pieces:\n",
    "        voxels = ((piece[idx] <= x) & (x < piece[idx] + piece[idl]) &\n",
    "                  (piece[idy] <= y) & (y < piece[idy] + piece[idw]) &\n",
    "                  (piece[idz] <= z) & (z < piece[idz] + piece[idh]))\n",
    "\n",
    "        colors[voxels] = color_names[piece[idc]]\n",
    "\n",
    "    voxels = colors != \"\"\n",
    "\n",
    "    # and plot everything\n",
    "    fig = plt.figure()\n",
    "    ax = fig.gca(projection='3d')\n",
    "    ax.set_aspect('equal')\n",
    "    ax.voxels(voxels, facecolors=colors, edgecolor='#00000020')\n",
    "    set_axes_equal(ax)\n",
    "    plt.axis('off')\n",
    "    plt.show()\n",
    "\n"
   ]
  },
  {
   "cell_type": "code",
   "execution_count": 808,
   "metadata": {},
   "outputs": [],
   "source": [
    "from typing import Sequence\n",
    "import numpy as np\n",
    "\n",
    "class Game:\n",
    "    def __init__(\n",
    "        self,\n",
    "        turn: int,\n",
    "        deck,\n",
    "        used,\n",
    "        board_cubes,\n",
    "        board_pieces,\n",
    "        first,\n",
    "    ):\n",
    "        assert turn < CARDS_NUM\n",
    "        self.turn = turn\n",
    "        self.deck = deck\n",
    "        self.used = used\n",
    "        self.board_cubes = board_cubes\n",
    "        self.board_pieces = board_pieces\n",
    "        self.first = first\n",
    "\n",
    "    @classmethod\n",
    "    def new(cls, first, cards_order=None):\n",
    "        first_shape, rotated = first\n",
    "        if rotated:\n",
    "            first_shape = first_shape[[1, 0, 2]]\n",
    "        \n",
    "        sorted_cards = np.arange(CARDS_NUM)\n",
    "        if cards_order:\n",
    "            assert np.sort(cards_order) == sorted_cards\n",
    "        else:\n",
    "            cards_order = sorted_cards    \n",
    "        deck = INITIAL_DECK[cards_order]\n",
    "        \n",
    "        board_cubes = np.zeros(BOARD, dtype=int)\n",
    "        board_cubes[:first_shape[IDX],:first_shape[IDY]] = first_shape[IDZ]\n",
    "        board_pieces = np.concatenate([first_shape, (GREEN, 0, 0, 0)])[None]\n",
    "        return cls(turn=0,\n",
    "                   deck=deck,\n",
    "                   used=np.empty((0, 1)),\n",
    "                   board_cubes=board_cubes,\n",
    "                   board_pieces=board_pieces,\n",
    "                   first=first)\n",
    "    \n",
    "    def draw(self):\n",
    "        draw(pieces=self.board_pieces)\n",
    "    \n",
    "    def possible_moves(self):\n",
    "        # All possible blocks from the card\n",
    "        authorized = self.deck[self.turn]\n",
    "        \n",
    "        # Remove those already used\n",
    "        available = authorized[np.all(np.any(authorized != used[:, None, :], axis=2), axis=0)]\n",
    "        \n",
    "        # Add all possible rotations\n",
    "        avail_and_rotated = np.unique(np.concatenate((available, available[:,(1, 0, 2, 3)])), axis=0)\n",
    "        \n",
    "        # Combine with every possible coordinate\n",
    "        moves = combine(avail_and_rotated, np.arange(BOARD[0])[...,None], np.arange(BOARD[1])[...,None])\n",
    "        \n",
    "        # Remove out of bounds\n",
    "        moves = moves[np.logical_not(np.any([\n",
    "            moves[:,IDX] + moves[:,IDPX] > BOARD[0],\n",
    "            moves[:,IDY] + moves[:,IDPY] > BOARD[1],\n",
    "        ], axis=0))]\n",
    "        \n",
    "        # Remove z clash\n",
    "        x, y = np.indices(BOARD)\n",
    "        # This will be the list of coordinates for each move\n",
    "        coord = moves[:, (IDPX, IDPY)]\n",
    "        # This is board cubes, repeated for each move\n",
    "        repeated = np.repeat(self.board_cubes[None], len(moves), axis=0)\n",
    "        # This is the height of the point a each coordinate\n",
    "        heights = self.board_cubes[tuple(coord.T)]\n",
    "        # This is a mask the shape of the board, with True where the piece is, for each move\n",
    "        shapes = np.moveaxis(np.all([\n",
    "            moves[:, IDPX] <= x[...,None],\n",
    "            x[...,None] < moves[:, IDPX] + moves[:, IDX],\n",
    "            moves[:, IDPY] <= y[...,None],\n",
    "            y[...,None] < moves[:, IDPY] + moves[:, IDY]], axis=0), -1, 0)\n",
    "\n",
    "        # This is a mask the shape of the board with all the places where height is equal to\n",
    "        # the height at the coordinate\n",
    "        equal = np.equal(repeated, heights[...,None,None])\n",
    "\n",
    "        # Couldn't find how to remove the for loop here :(\n",
    "        # Here we keep only the pieces for which equal[shape] is all True\n",
    "        moves = moves[np.array([np.all(e[s]) for e, s in zip(equal, shapes)])]\n",
    "        \n",
    "        ID2 = IDPY + 1\n",
    "        moves_pieces = concatenate_two(moves, self.board_pieces)\n",
    "        return moves_pieces\n",
    "        moves_pieces = moves_pieces[np.all(moves_pieces[:,IDX:IDZ + 1] ==\n",
    "                                           moves_pieces[:,ID2 + IDX:ID2 + IDZ + 1],\n",
    "                                           axis=1)]\n",
    "        distances = []\n",
    "        \n",
    "        \n",
    "        return moves\n",
    "        "
   ]
  },
  {
   "cell_type": "code",
   "execution_count": 809,
   "metadata": {},
   "outputs": [],
   "source": [
    "import functools\n",
    "\n",
    "def concatenate_two(a, b):\n",
    "    return np.hstack((np.repeat(a, len(b), axis=0), np.tile(b, (len(a), 1))))\n",
    "\n",
    "def combine(*arrays):\n",
    "    return functools.reduce(concatenate_two, arrays)"
   ]
  },
  {
   "cell_type": "code",
   "execution_count": 810,
   "metadata": {},
   "outputs": [],
   "source": [
    "moves_pieces=Game.new(ABC).possible_moves()"
   ]
  },
  {
   "cell_type": "code",
   "execution_count": 816,
   "metadata": {},
   "outputs": [
    {
     "data": {
      "text/plain": [
       "array([False, False, False, False, False, False, False, False, False,\n",
       "       False, False, False, False, False, False, False, False, False,\n",
       "       False, False, False, False, False, False, False, False, False,\n",
       "       False, False, False, False, False, False, False, False, False,\n",
       "       False, False, False, False, False, False, False, False, False,\n",
       "       False, False, False, False, False, False, False, False, False,\n",
       "       False, False, False, False, False, False, False, False, False,\n",
       "       False, False, False, False, False, False, False, False, False,\n",
       "       False, False, False, False, False, False, False, False, False,\n",
       "       False, False, False, False, False, False, False, False, False,\n",
       "       False, False, False, False, False, False, False, False, False,\n",
       "       False, False, False, False, False, False, False, False, False,\n",
       "       False, False, False, False, False, False, False, False, False,\n",
       "       False, False, False, False, False, False, False, False, False,\n",
       "       False, False, False, False, False, False, False, False, False,\n",
       "       False, False, False, False, False, False, False, False, False,\n",
       "       False, False, False, False, False, False, False, False, False,\n",
       "       False, False, False, False, False, False, False, False, False,\n",
       "       False, False, False,  True,  True,  True,  True,  True,  True,\n",
       "        True,  True,  True,  True,  True,  True,  True,  True,  True,\n",
       "        True,  True,  True,  True,  True,  True])"
      ]
     },
     "execution_count": 816,
     "metadata": {},
     "output_type": "execute_result"
    }
   ],
   "source": [
    "ID2 = IDPY + 1\n"
   ]
  },
  {
   "cell_type": "code",
   "execution_count": 803,
   "metadata": {},
   "outputs": [
    {
     "data": {
      "text/plain": [
       "array([[ True,  True,  True,  True,  True,  True],\n",
       "       [ True,  True,  True,  True,  True,  True],\n",
       "       [ True,  True,  True,  True,  True,  True],\n",
       "       [ True,  True,  True,  True,  True,  True],\n",
       "       [ True,  True,  True,  True,  True,  True],\n",
       "       [ True,  True,  True,  True,  True,  True],\n",
       "       [ True,  True,  True,  True,  True,  True],\n",
       "       [ True,  True,  True,  True,  True,  True],\n",
       "       [ True,  True,  True,  True,  True,  True],\n",
       "       [ True,  True,  True,  True,  True,  True],\n",
       "       [ True,  True,  True,  True,  True,  True]])"
      ]
     },
     "execution_count": 803,
     "metadata": {},
     "output_type": "execute_result"
    }
   ],
   "source": []
  },
  {
   "cell_type": "code",
   "execution_count": null,
   "metadata": {},
   "outputs": [],
   "source": []
  }
 ],
 "metadata": {
  "kernelspec": {
   "display_name": "Python 3",
   "language": "python",
   "name": "python3"
  },
  "language_info": {
   "codemirror_mode": {
    "name": "ipython",
    "version": 3
   },
   "file_extension": ".py",
   "mimetype": "text/x-python",
   "name": "python",
   "nbconvert_exporter": "python",
   "pygments_lexer": "ipython3",
   "version": "3.7.0"
  }
 },
 "nbformat": 4,
 "nbformat_minor": 2
}
