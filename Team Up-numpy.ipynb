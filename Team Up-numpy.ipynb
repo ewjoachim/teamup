{
 "cells": [
  {
   "cell_type": "code",
   "execution_count": 61,
   "metadata": {},
   "outputs": [],
   "source": [
    "import numpy as np\n",
    "\n",
    "# Colors\n",
    "WHITE = 0\n",
    "BLUE = 1\n",
    "RED = 2\n",
    "GREEN = 3  # Initial piece\n",
    "COLORS = np.array([WHITE, BLUE, RED])"
   ]
  },
  {
   "cell_type": "code",
   "execution_count": 62,
   "metadata": {},
   "outputs": [],
   "source": [
    "# Shapes\n",
    "LONG4 = np.array((1, 1, 4))\n",
    "RECTANGLE3 = np.array((2, 1, 3))\n",
    "RECTANGLE2 = np.array((3, 1, 2))\n",
    "SQUARE2 = np.array((2, 1, 2))\n",
    "SHORT2 = np.array((1, 1, 2))\n",
    "LONG1 = np.array((4, 1, 1))\n",
    "RECTANGLE1 = np.array((3, 2, 1))\n",
    "SQUARE1 = np.array((2, 2, 1))\n",
    "SHORT1 = np.array((2, 1, 1))\n",
    "SHAPES = np.array([LONG4, RECTANGLE3, RECTANGLE2, SQUARE2, SHORT2, LONG1,\n",
    "                   RECTANGLE1, SQUARE1, SHORT1])"
   ]
  },
  {
   "cell_type": "code",
   "execution_count": 82,
   "metadata": {},
   "outputs": [],
   "source": [
    "# Can we do that better ?\n",
    "PIECES=np.column_stack((np.repeat(SHAPES, len(COLORS), axis=0), np.tile(COLORS, len(SHAPES))))\n",
    "IDX, IDY, IDZ, IDCOL = 0, 1, 2, 3"
   ]
  },
  {
   "cell_type": "code",
   "execution_count": 84,
   "metadata": {},
   "outputs": [],
   "source": [
    "ABC = (RECTANGLE1, False)\n",
    "ACB = (RECTANGLE2, False)\n",
    "BAC = (RECTANGLE1, True)\n",
    "BCA = (RECTANGLE3, False)\n",
    "CAB = (RECTANGLE2, True)\n",
    "CBA = (RECTANGLE3, True)"
   ]
  },
  {
   "cell_type": "code",
   "execution_count": 89,
   "metadata": {},
   "outputs": [],
   "source": [
    "CARD_WHITE = PIECES[PIECES[:,IDCOL] == WHITE]\n",
    "CARD_BLUE = PIECES[PIECES[:,IDCOL] == BLUE]\n",
    "CARD_RED = PIECES[PIECES[:,IDCOL] == RED]\n",
    "\n",
    "CARD_LONG = PIECES[np.all(np.sort(PIECES[:,:3], axis=1)[:,:2] == np.array((1, 1)), axis=1)]\n",
    "CARD_SQUARE = PIECES[np.all(np.sort(PIECES[:,:3], axis=1)[:,1:] == np.array((2, 2)), axis=1)]\n",
    "CARD_RECTANGLE = PIECES[np.all(np.sort(PIECES[:,:3], axis=1) == np.array((1, 2, 3)), axis=1)]\n",
    "\n",
    "#CARD_RECTANGLE = frozenset(p for p in PIECES if sorted(p.shape.value) == [1, 2, 3])"
   ]
  },
  {
   "cell_type": "code",
   "execution_count": null,
   "metadata": {},
   "outputs": [],
   "source": [
    "INITIAL_DECK = np.array([CARD_SQUARE, CARD_WHITE, CARD_LONG, CARD_RECTANGLE, CARD_BLUE,\n",
    "                         CARD_RED, CARD_WHITE, CARD_RECTANGLE, CARD_WHITE, CARD_BLUE,\n",
    "                         CARD_RED, CARD_SQUARE, CARD_LONG, CARD_RECTANGLE, CARD_BLUE,\n",
    "                         CARD_LONG, CARD_LONG, CARD_BLUE, CARD_SQUARE, CARD_RED, CARD_LONG,\n",
    "                         CARD_BLUE, CARD_RED, CARD_LONG, CARD_RECTANGLE, CARD_SQUARE,\n",
    "                         CARD_WHITE, CARD_BLUE, CARD_WHITE, CARD_WHITE, CARD_RED, CARD_RED,\n",
    "                         CARD_RECTANGLE, CARD_RECTANGLE, CARD_SQUARE, CARD_SQUARE])\n",
    "\n",
    "CARDS_NUM = len(INITIAL_DECK)"
   ]
  },
  {
   "cell_type": "code",
   "execution_count": 100,
   "metadata": {},
   "outputs": [],
   "source": [
    "BOARD = np.array((6, 4))"
   ]
  },
  {
   "cell_type": "code",
   "execution_count": 188,
   "metadata": {},
   "outputs": [],
   "source": [
    "def rotate(shape):\n",
    "    return shape[[1, 0, 2]]\n",
    "    "
   ]
  },
  {
   "cell_type": "code",
   "execution_count": 184,
   "metadata": {},
   "outputs": [],
   "source": [
    "import matplotlib.pyplot as plt\n",
    "import numpy as np\n",
    "\n",
    "# This import registers the 3D projection, but is otherwise unused.\n",
    "from mpl_toolkits.mplot3d import Axes3D  # noqa: F401 unused import\n",
    "\n",
    "\n",
    "def set_axes_equal(ax):\n",
    "    '''Make axes of 3D plot have equal scale so that spheres appear as spheres,\n",
    "    cubes as cubes, etc..  This is one possible solution to Matplotlib's\n",
    "    ax.set_aspect('equal') and ax.axis('equal') not working for 3D.\n",
    "\n",
    "    Input\n",
    "      ax: a matplotlib axis, e.g., as output from plt.gca().\n",
    "    '''\n",
    "\n",
    "    x_limits = ax.get_xlim3d()\n",
    "    y_limits = ax.get_ylim3d()\n",
    "    z_limits = ax.get_zlim3d()\n",
    "\n",
    "    x_range = abs(x_limits[1] - x_limits[0])\n",
    "    x_middle = np.mean(x_limits)\n",
    "    y_range = abs(y_limits[1] - y_limits[0])\n",
    "    y_middle = np.mean(y_limits)\n",
    "    z_range = abs(z_limits[1] - z_limits[0])\n",
    "    z_middle = np.mean(z_limits)\n",
    "\n",
    "    # The plot bounding box is a sphere in the sense of the infinity\n",
    "    # norm, hence I call half the max range the plot radius.\n",
    "    plot_radius = 0.5*max([x_range, y_range, z_range])\n",
    "\n",
    "    ax.set_xlim3d([x_middle - plot_radius, x_middle + plot_radius])\n",
    "    ax.set_ylim3d([y_middle - plot_radius, y_middle + plot_radius])\n",
    "    ax.set_zlim3d([z_middle - plot_radius, z_middle + plot_radius])\n",
    "    \n",
    "    \n",
    "def draw(pieces):\n",
    "    # shape for pieces is (n, 7), 7 being (l, w, h, c, x, y, z)\n",
    "    idl, idw, idh, idc, idx, idy, idz = range(7)\n",
    "    max_height = np.max(a[:,idh] + a[:,idz]) + 1\n",
    "    \n",
    "    # prepare some coordinates\n",
    "    shape = np.concatenate((BOARD, np.array((max_height,))))\n",
    "    x, y, z = np.indices(shape)\n",
    "    colors = np.full(shape, \"\")\n",
    "    color_names = [\"white\", \"blue\", \"red\", \"green\"]\n",
    "    \n",
    "    base = (z == 0)\n",
    "    colors[base] = 'grey'\n",
    "    pieces[:,idz] += 1\n",
    "    \n",
    "    for piece in pieces:\n",
    "        voxels = ((piece[idx] <= x) & (x < piece[idx] + piece[idl]) &\n",
    "                  (piece[idy] <= y) & (y < piece[idy] + piece[idw]) &\n",
    "                  (piece[idz] <= z) & (z < piece[idz] + piece[idh]))\n",
    "\n",
    "        colors[voxels] = color_names[piece[idc]]\n",
    "\n",
    "    voxels = colors != \"\"\n",
    "\n",
    "    # and plot everything\n",
    "    fig = plt.figure()\n",
    "    ax = fig.gca(projection='3d')\n",
    "    ax.set_aspect('equal')\n",
    "    ax.voxels(voxels, facecolors=colors, edgecolor='#00000020')\n",
    "    set_axes_equal(ax)\n",
    "    plt.axis('off')\n",
    "    plt.show()\n",
    "\n"
   ]
  },
  {
   "cell_type": "code",
   "execution_count": 276,
   "metadata": {},
   "outputs": [],
   "source": [
    "from typing import Sequence\n",
    "import numpy as np\n",
    "\n",
    "class Game:\n",
    "    def __init__(\n",
    "        self,\n",
    "        turn: int,\n",
    "        deck,\n",
    "        used,\n",
    "        board_cubes,\n",
    "        board_pieces,\n",
    "        first,\n",
    "    ):\n",
    "        assert turn < CARDS_NUM\n",
    "        self.turn = turn\n",
    "        self.deck = deck\n",
    "        self.used = used\n",
    "        self.board_cubes = board_cubes\n",
    "        self.board_pieces = board_pieces\n",
    "        self.first = first\n",
    "\n",
    "    @classmethod\n",
    "    def new(cls, first, cards_order=None):\n",
    "        first_shape, rotated = first\n",
    "        if rotated:\n",
    "            first_shape = first_shape[[1, 0, 2]]\n",
    "        \n",
    "        sorted_cards = np.arange(CARDS_NUM)\n",
    "        if cards_order:\n",
    "            assert np.sort(cards_order) == sorted_cards\n",
    "        else:\n",
    "            cards_order = sorted_cards    \n",
    "        deck = INITIAL_DECK[cards_order]\n",
    "        \n",
    "        board_cubes = np.zeros(BOARD, dtype=int)\n",
    "        board_cubes[:first_shape[IDX],:first_shape[IDY]] = first_shape[IDZ]\n",
    "        board_pieces = np.concatenate([first_shape, (GREEN, 0, 0, 0)])\n",
    "        return cls(turn=0, deck=deck, used=np.empty((0, 1)), board_cubes=board_cubes, board_pieces=board_pieces, first=first)\n",
    "    \n",
    "    def draw(self):\n",
    "        draw(pieces=self.board_pieces)\n",
    "    \n",
    "    def possible_moves(self):\n",
    "        authorized = self.deck[self.turn] \n",
    "        available = authorized[np.all(np.any(authorized != used[:, None, :], axis=2), axis=0)]\n",
    "        \n",
    "        avail_and_rotated = np.unique(np.concatenate((available, available[:,(1, 0, 2, 3)])), axis=0)\n",
    "        \n",
    "        all_moves = combine(avail_and_rotated, np.arange(BOARD[0]), np.range(BOARD[1]))\n",
    "        \n",
    "        return all_moves\n",
    "        "
   ]
  },
  {
   "cell_type": "code",
   "execution_count": null,
   "metadata": {},
   "outputs": [],
   "source": [
    "\n",
    "    def check(self):\n",
    "        piece = self.piece\n",
    "        pos = self.pos\n",
    "        piece_cubes = self.piece_cubes\n",
    "        piece_shape = self.piece_shape\n",
    "            \n",
    "        # Is piece out of bounds:\n",
    "        if any(p < 0 for p in pos):\n",
    "            raise OutOfBounds(\"Invalid position (<0)\")\n",
    "        if any(p + s > b for p, s, b in zip(pos, piece_shape, BOARD)):\n",
    "            raise OutOfBounds(\"Invalid position (>border)\")\n",
    "        \n",
    "        # Check all heights under piece: should be all equal to z coord -1\n",
    "        z = self.pos3.z\n",
    "        \n",
    "        if z == 0:\n",
    "            to_check = [C2(pos.x - 1, pos.y),\n",
    "                        C2(pos.x, pos.y - 1),\n",
    "                        C2(pos.x + piece_shape.x, pos.y),\n",
    "                        C2(pos.x, pos.y + piece_shape.y)]\n",
    "            for c in to_check:\n",
    "                try:\n",
    "                    if self.game.board_cubes[c]:\n",
    "                        break\n",
    "                except IndexError:\n",
    "                    continue\n",
    "            else:\n",
    "                raise PieceNotNextToAnotherPiece()\n",
    "        \n",
    "        all_z = self.game.board_cubes[piece_cubes]\n",
    "        if not np.all(all_z == (z)):\n",
    "            raise PieceNotOnOtherPieces(f\"Wrong height (should be all {z}):\\n{all_z}\")\n",
    "        \n",
    "        # Is piece next to similar piece\n",
    "        # Check 5 directions with board_pieces\n",
    "        forbidden = {C3(pos.x, pos.y, z - piece_shape.z),\n",
    "                     C3(pos.x - piece_shape.x, pos.y, z),\n",
    "                     C3(pos.x + piece_shape.x, pos.y, z),\n",
    "                     C3(pos.x, pos.y - piece_shape.y, z),\n",
    "                     C3(pos.x, pos.y + piece_shape.y, z)}\n",
    "\n",
    "        if any((f, piece_shape) in self.game.board_pieces for f in forbidden):\n",
    "            raise PieceNextToSimilarPiece()"
   ]
  },
  {
   "cell_type": "code",
   "execution_count": 339,
   "metadata": {},
   "outputs": [],
   "source": [
    "import functools\n",
    "\n",
    "def concatenate_two(a, b):\n",
    "    return np.hstack((np.repeat(a, len(b), axis=0), np.tile(b, (len(a), 1))))\n",
    "\n",
    "def combine(*arrays):\n",
    "    return functools.reduce(concatenate_two, arrays)"
   ]
  },
  {
   "cell_type": "code",
   "execution_count": 186,
   "metadata": {},
   "outputs": [
    {
     "ename": "IndentationError",
     "evalue": "expected an indented block (<ipython-input-186-b8a99bb1c34d>, line 16)",
     "output_type": "error",
     "traceback": [
      "\u001b[0;36m  File \u001b[0;32m\"<ipython-input-186-b8a99bb1c34d>\"\u001b[0;36m, line \u001b[0;32m16\u001b[0m\n\u001b[0;31m    class Game:\u001b[0m\n\u001b[0m        ^\u001b[0m\n\u001b[0;31mIndentationError\u001b[0m\u001b[0;31m:\u001b[0m expected an indented block\n"
     ]
    }
   ],
   "source": [
    "class Move:\n",
    "    def __init__(self, game:Game, piece: Piece, rotated: bool, pos:C2):\n",
    "        self.game = game\n",
    "        self.piece = piece\n",
    "        self.rotated = rotated\n",
    "        self.pos = pos\n",
    "        self.pos3 = C3(*pos, self.game.board_cubes[pos])\n",
    "        \n",
    "        self.piece_shape = piece.shape.value\n",
    "        if rotated:\n",
    "            self.piece_shape = rotate(self.piece_shape)\n",
    "        \n",
    "        x, y = np.indices(BOARD)\n",
    "        self.piece_cubes = ((pos.x <= x) & (x < pos.x + self.piece_shape.x) &\n",
    "                            (pos.y <= y) & (y < pos.y + self.piece_shape.y))\n",
    "    \n",
    "    def __repr__(self):\n",
    "        return f\"{self.piece} {self.pos} {'r' if self.rotated else ''}\"\n",
    "    \n",
    "    def check(self):\n",
    "        piece = self.piece\n",
    "        pos = self.pos\n",
    "        piece_cubes = self.piece_cubes\n",
    "        piece_shape = self.piece_shape\n",
    "        # Is piece available\n",
    "        if piece not in PIECES - frozenset(self.game.used):\n",
    "            raise PieceNotAvaliable(\"Piece not available\")\n",
    "        # Is piece valid given card\n",
    "        if piece not in self.game.card.value:\n",
    "            raise PieceNotIncludedInCare(\"Forbidden piece given current card\")\n",
    "            \n",
    "        # Is piece out of bounds:\n",
    "        if any(p < 0 for p in pos):\n",
    "            raise OutOfBounds(\"Invalid position (<0)\")\n",
    "        if any(p + s > b for p, s, b in zip(pos, piece_shape, BOARD)):\n",
    "            raise OutOfBounds(\"Invalid position (>border)\")\n",
    "        \n",
    "        # Check all heights under piece: should be all equal to z coord -1\n",
    "        z = self.pos3.z\n",
    "        \n",
    "        if z == 0:\n",
    "            to_check = [C2(pos.x - 1, pos.y),\n",
    "                        C2(pos.x, pos.y - 1),\n",
    "                        C2(pos.x + piece_shape.x, pos.y),\n",
    "                        C2(pos.x, pos.y + piece_shape.y)]\n",
    "            for c in to_check:\n",
    "                try:\n",
    "                    if self.game.board_cubes[c]:\n",
    "                        break\n",
    "                except IndexError:\n",
    "                    continue\n",
    "            else:\n",
    "                raise PieceNotNextToAnotherPiece()\n",
    "        \n",
    "        all_z = self.game.board_cubes[piece_cubes]\n",
    "        if not np.all(all_z == (z)):\n",
    "            raise PieceNotOnOtherPieces(f\"Wrong height (should be all {z}):\\n{all_z}\")\n",
    "        \n",
    "        # Is piece next to similar piece\n",
    "        # Check 5 directions with board_pieces\n",
    "        forbidden = {C3(pos.x, pos.y, z - piece_shape.z),\n",
    "                     C3(pos.x - piece_shape.x, pos.y, z),\n",
    "                     C3(pos.x + piece_shape.x, pos.y, z),\n",
    "                     C3(pos.x, pos.y - piece_shape.y, z),\n",
    "                     C3(pos.x, pos.y + piece_shape.y, z)}\n",
    "\n",
    "        if any((f, piece_shape) in self.game.board_pieces for f in forbidden):\n",
    "            raise PieceNextToSimilarPiece()\n",
    "\n",
    "    def play(self):\n",
    "        # Add piece_cubes to board_cubes\n",
    "        self.game.board_cubes[self.piece_cubes] += self.piece_shape.z\n",
    "        # Add pos & piece to board_pieces \n",
    "        self.game.board_pieces[(self.pos3, self.piece_shape)] = self.piece.color\n",
    "        \n",
    "        self.game.used.append(self.piece)\n",
    "        self.game.turn += 1"
   ]
  },
  {
   "cell_type": "code",
   "execution_count": 199,
   "metadata": {},
   "outputs": [
    {
     "data": {
      "text/plain": [
       "array([[1, 1, 4, 1],\n",
       "       [1, 1, 4, 2],\n",
       "       [2, 1, 3, 0],\n",
       "       [2, 1, 3, 1],\n",
       "       [2, 1, 3, 2],\n",
       "       [3, 1, 2, 0],\n",
       "       [3, 1, 2, 1],\n",
       "       [3, 1, 2, 2],\n",
       "       [2, 1, 2, 0]])"
      ]
     },
     "execution_count": 199,
     "metadata": {},
     "output_type": "execute_result"
    }
   ],
   "source": []
  },
  {
   "cell_type": "code",
   "execution_count": 192,
   "metadata": {},
   "outputs": [
    {
     "data": {
      "text/plain": [
       "2"
      ]
     },
     "execution_count": 192,
     "metadata": {},
     "output_type": "execute_result"
    }
   ],
   "source": [
    "len(np.array([[1, 2], [3, 4]]))"
   ]
  },
  {
   "cell_type": "code",
   "execution_count": 6,
   "metadata": {
    "scrolled": true
   },
   "outputs": [],
   "source": [
    "import random\n",
    "def random_play():\n",
    "    g = Game.new(FirstPos.ABC)\n",
    "    while True:\n",
    "        try:\n",
    "            next(g.possible_moves()).play()\n",
    "        except StopIteration:\n",
    "            break\n"
   ]
  },
  {
   "cell_type": "code",
   "execution_count": 32,
   "metadata": {},
   "outputs": [
    {
     "name": "stdout",
     "output_type": "stream",
     "text": [
      "613 ms ± 13 ms per loop (mean ± std. dev. of 7 runs, 1 loop each)\n"
     ]
    }
   ],
   "source": [
    "%timeit tuple(random_play())"
   ]
  },
  {
   "cell_type": "code",
   "execution_count": 15,
   "metadata": {},
   "outputs": [
    {
     "name": "stdout",
     "output_type": "stream",
     "text": [
      " "
     ]
    }
   ],
   "source": [
    "%prun random_play()"
   ]
  },
  {
   "cell_type": "code",
   "execution_count": null,
   "metadata": {},
   "outputs": [],
   "source": []
  }
 ],
 "metadata": {
  "kernelspec": {
   "display_name": "Python 3",
   "language": "python",
   "name": "python3"
  },
  "language_info": {
   "codemirror_mode": {
    "name": "ipython",
    "version": 3
   },
   "file_extension": ".py",
   "mimetype": "text/x-python",
   "name": "python",
   "nbconvert_exporter": "python",
   "pygments_lexer": "ipython3",
   "version": "3.7.0"
  }
 },
 "nbformat": 4,
 "nbformat_minor": 2
}
